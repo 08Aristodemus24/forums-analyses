{
 "metadata": {
  "kernelspec": {
   "display_name": "Streamlit Notebook",
   "name": "streamlit"
  },
  "lastEditStatus": {
   "notebookId": "xgftdpqrwui3eopcpnft",
   "authorId": "807983066721",
   "authorName": "AKUSLAYER3000",
   "authorEmail": "michaelaveuc571@gmail.com",
   "sessionId": "b90459be-f63a-43cc-9bd3-f6de21aedef8",
   "lastEditTime": 1760776503996
  }
 },
 "nbformat_minor": 5,
 "nbformat": 4,
 "cells": [
  {
   "cell_type": "code",
   "id": "8d50cbf4-0c8d-4950-86cb-114990437ac9",
   "metadata": {
    "language": "sql",
    "name": "cell2"
   },
   "source": "-- Welcome to Snowflake Notebooks!\n-- Try out a SQL cell to generate some data.\nCREATE DATABASE IF NOT EXISTS subreddit_analyses_db;\nUSE subreddit_analyses_db;",
   "execution_count": null,
   "outputs": []
  },
  {
   "cell_type": "code",
   "id": "bfd0d4d5-3875-401f-9699-1a50116d1ae5",
   "metadata": {
    "language": "sql",
    "name": "cell1"
   },
   "outputs": [],
   "source": "CREATE SCHEMA IF NOT EXISTS subreddit_analyses_bronze; ",
   "execution_count": null
  },
  {
   "cell_type": "code",
   "id": "853307dd-f9f4-40fd-a478-61370d430447",
   "metadata": {
    "language": "sql",
    "name": "cell3"
   },
   "outputs": [],
   "source": "",
   "execution_count": null
  }
 ]
}