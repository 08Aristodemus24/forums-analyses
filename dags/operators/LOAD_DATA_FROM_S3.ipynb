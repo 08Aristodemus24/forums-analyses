{
 "metadata": {
  "kernelspec": {
   "display_name": "Streamlit Notebook",
   "name": "streamlit"
  },
  "lastEditStatus": {
   "notebookId": "clllyk6z3gijh3cbgnmv",
   "authorId": "807983066721",
   "authorName": "AKUSLAYER3000",
   "authorEmail": "michaelaveuc571@gmail.com",
   "sessionId": "f3469524-6e91-4450-8828-ba7bd70f15d3",
   "lastEditTime": 1760777603933
  }
 },
 "nbformat_minor": 5,
 "nbformat": 4,
 "cells": [
  {
   "cell_type": "code",
   "id": "f5bb3a76-64f4-4ab3-851d-1e0f59f2ff3f",
   "metadata": {
    "language": "sql",
    "name": "cell3"
   },
   "outputs": [],
   "source": "USE subreddit_analyses_db",
   "execution_count": null
  },
  {
   "cell_type": "code",
   "id": "8d50cbf4-0c8d-4950-86cb-114990437ac9",
   "metadata": {
    "language": "sql",
    "name": "cell2"
   },
   "source": "CREATE OR REPLACE FILE FORMAT pff\n    TYPE = PARQUET",
   "execution_count": null,
   "outputs": []
  },
  {
   "cell_type": "code",
   "id": "012f2e15-e074-43ab-9013-4755432a89eb",
   "metadata": {
    "language": "sql",
    "name": "cell1"
   },
   "outputs": [],
   "source": "CREATE OR REPLACE STAGE sa_ext_stage_integration\n    STORAGE_INTEGRATION = subreddit_analyses_si\n    URL = 's3://subreddit-analyses-bucket' -- Replace with your S3 bucket and folder path\n    FILE_FORMAT = pff;",
   "execution_count": null
  },
  {
   "cell_type": "code",
   "id": "dab7b9a5-a38b-43c6-b74e-27c1f0f919b1",
   "metadata": {
    "language": "sql",
    "name": "cell4"
   },
   "outputs": [],
   "source": "LIST @sa_ext_stage_integration",
   "execution_count": null
  },
  {
   "cell_type": "code",
   "id": "ca969abb-41fb-49e7-8d10-15c180d08726",
   "metadata": {
    "language": "sql",
    "name": "cell5"
   },
   "outputs": [],
   "source": "-- we can now just select from this table as \n-- if it were an existing table in snowflake because\n-- mind you this table has not yet been created in our \n-- database schema\nSELECT\n    $1:comment::VARCHAR AS t,\n    $1:score::INTEGER AS score,\n    $1:id::VARCHAR AS id,\n    $1:url::VARCHAR AS url,\n    $1:comment::VARCHAR AS comment,\n    -- Add more columns as needed\nFROM @sa_ext_stage_integration/raw_reddit_data.parquet;",
   "execution_count": null
  }
 ]
}