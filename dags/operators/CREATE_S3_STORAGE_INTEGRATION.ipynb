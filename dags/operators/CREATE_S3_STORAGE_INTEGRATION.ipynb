{
 "metadata": {
  "kernelspec": {
   "display_name": "Streamlit Notebook",
   "name": "streamlit"
  },
  "lastEditStatus": {
   "notebookId": "5i242gyrvvflbiglhodo",
   "authorId": "807983066721",
   "authorName": "AKUSLAYER3000",
   "authorEmail": "michaelaveuc571@gmail.com",
   "sessionId": "037752c3-0b52-4bfb-8a48-bbcfc0d06941",
   "lastEditTime": 1760776605416
  }
 },
 "nbformat_minor": 5,
 "nbformat": 4,
 "cells": [
  {
   "cell_type": "code",
   "id": "a924bb13-fdae-41ef-abfd-3196f6a76807",
   "metadata": {
    "language": "sql",
    "name": "cell3"
   },
   "outputs": [],
   "source": "USE subreddit_analyses_db;",
   "execution_count": null
  },
  {
   "cell_type": "code",
   "id": "8d50cbf4-0c8d-4950-86cb-114990437ac9",
   "metadata": {
    "language": "sql",
    "name": "cell2"
   },
   "source": "CREATE STORAGE INTEGRATION IF NOT EXISTS subreddit_analyses_si\n    TYPE = EXTERNAL_STAGE\n    STORAGE_PROVIDER = 'S3'\n    ENABLED = TRUE\n    STORAGE_AWS_ROLE_ARN = 'arn:aws:iam::612565766933:role/subreddit-analyses-si-role'\n    STORAGE_ALLOWED_LOCATIONS = ('s3://subreddit-analyses-bucket')",
   "execution_count": null,
   "outputs": []
  },
  {
   "cell_type": "code",
   "id": "7f245571-fda6-43ea-872a-1d9d5ff368dc",
   "metadata": {
    "language": "sql",
    "name": "cell1",
    "codeCollapsed": false
   },
   "outputs": [],
   "source": "DESCRIBE INTEGRATION subreddit_analyses_si",
   "execution_count": null
  }
 ]
}